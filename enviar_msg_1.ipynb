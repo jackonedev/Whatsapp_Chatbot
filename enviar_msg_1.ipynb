{
 "cells": [
  {
   "attachments": {},
   "cell_type": "markdown",
   "metadata": {},
   "source": [
    "# 1) Cargar librerías y obtener variables de entorno"
   ]
  },
  {
   "cell_type": "code",
   "execution_count": 2,
   "metadata": {},
   "outputs": [],
   "source": [
    "import requests\n",
    "import json\n",
    "from dotenv import load_dotenv\n",
    "import os\n",
    "\n",
    "# Cargar variables de entorno\n",
    "load_dotenv()\n",
    "\n",
    "\n",
    "# URL de la API\n",
    "api_version = 'v16.0'\n",
    "waba_id = os.environ['WABA_ID']\n",
    "url = f'https://graph.facebook.com/{api_version}/{waba_id}/messages'\n",
    "\n",
    "# Token de acceso\n",
    "token = os.environ['PERSONAL_API']\n",
    "\n",
    "# Crear header con Content-Type y Autorization\n",
    "\n",
    "headers = {'Content-Type': 'application/json'}\n",
    "auth = {'Authorization': 'Bearer ' + token}\n",
    "headers.update(auth)"
   ]
  },
  {
   "attachments": {},
   "cell_type": "markdown",
   "metadata": {},
   "source": [
    "# 2) Enviar TEMPLATE de inicio de conversación"
   ]
  },
  {
   "cell_type": "code",
   "execution_count": 3,
   "metadata": {},
   "outputs": [
    {
     "name": "stdout",
     "output_type": "stream",
     "text": [
      "200\n",
      "{\"messaging_product\":\"whatsapp\",\"contacts\":[{\"input\":\"543516109966\",\"wa_id\":\"5493516109966\"}],\"messages\":[{\"id\":\"wamid.HBgNNTQ5MzUxNjEwOTk2NhUCABEYEjExMEFEOUM5NTdEOEUyODZEOQA=\"}]}\n"
     ]
    }
   ],
   "source": [
    "numero = '543516109966'\n",
    "\n",
    "data = {\n",
    "    'messaging_product': 'whatsapp',\n",
    "    'to': numero,\n",
    "    'type': 'template',\n",
    "    'template': {\n",
    "        'name': 'hello_world',\n",
    "        'language': {\n",
    "            'code': 'en_US'\n",
    "        }\n",
    "    }\n",
    "}\n",
    "\n",
    "response = requests.post(url, headers=headers, data=json.dumps(data))\n",
    "print(response.status_code)\n",
    "print(response.text)\n"
   ]
  },
  {
   "attachments": {},
   "cell_type": "markdown",
   "metadata": {},
   "source": [
    "# 3) Enviar mensaje de texto"
   ]
  },
  {
   "cell_type": "code",
   "execution_count": 8,
   "metadata": {},
   "outputs": [],
   "source": [
    "numero = '543516109966'\n",
    "\n",
    "cuerpo_mensaje = '''\n",
    "\\tA partir de este momento hasta acabar STOCK!\n",
    "*INCREIBLE OPORTUNIDAD DE APROVECHAR NUESTRAS OFERTAS*\n",
    "\n",
    "++ Llevate un bot de whatsapp para tu negocio a un precio increible!\n",
    "\n",
    "_Agustin Stigliano, desde 1990 dando soluciones mágicas_ \n",
    "'''\n",
    "\n",
    "\n",
    "data = {\n",
    "    'messaging_product': 'whatsapp',    \n",
    "    'recipient_type': 'individual',\n",
    "    'to': numero,\n",
    "    'type': 'text',\n",
    "    'text': {\n",
    "        'preview_url': False,\n",
    "        'body': cuerpo_mensaje\n",
    "    }\n",
    "}\n",
    "\n",
    "response = requests.post(url, headers=headers, data=json.dumps(data))"
   ]
  },
  {
   "cell_type": "code",
   "execution_count": 19,
   "metadata": {},
   "outputs": [
    {
     "data": {
      "text/plain": [
       "'{\"messaging_product\":\"whatsapp\",\"contacts\":[{\"input\":\"543516118080\",\"wa_id\":\"5493516118080\"}],\"messages\":[{\"id\":\"wamid.HBgNNTQ5MzUxNjExODA4MBUCABEYEkEyNEUxQzVDQzdDOUI5RENEMwA=\"}]}'"
      ]
     },
     "execution_count": 19,
     "metadata": {},
     "output_type": "execute_result"
    }
   ],
   "source": [
    "response.status_code\n",
    "response.text"
   ]
  },
  {
   "attachments": {},
   "cell_type": "markdown",
   "metadata": {},
   "source": [
    "# 4) Enviar mensaje de texto con URL"
   ]
  },
  {
   "cell_type": "code",
   "execution_count": 14,
   "metadata": {},
   "outputs": [],
   "source": [
    "numero = '543516109966'\n",
    "\n",
    "cuerpo_mensaje = 'ACCEDE A NUESTRA URL: http://www.choppcassaro.com.ar/'\n",
    "\n",
    "data = {\n",
    "    'messaging_product': 'whatsapp',    \n",
    "    'recipient_type': 'individual',\n",
    "    'to': numero,\n",
    "    'type': 'text',\n",
    "    'text': {\n",
    "        'preview_url': True,\n",
    "        'body': cuerpo_mensaje\n",
    "    }\n",
    "}\n",
    "\n",
    "response = requests.post(url, headers=headers, data=json.dumps(data))"
   ]
  },
  {
   "attachments": {},
   "cell_type": "markdown",
   "metadata": {},
   "source": [
    "# 5) Subir una archivo MEDIA\n",
    "\n",
    "**Aun no poseo autorización**"
   ]
  },
  {
   "cell_type": "code",
   "execution_count": 25,
   "metadata": {},
   "outputs": [],
   "source": [
    "api_version = 'v16.0'\n",
    "waba_id = \"110185892096367\"\n",
    "# url = f\"https://graph.facebook.com/{api_version}/{waba_id}/media\"\n",
    "\n",
    "filename = 'pilsen1-376x480.png'\n",
    "filepath = os.path.join(os.getcwd(), 'media', filename)"
   ]
  },
  {
   "cell_type": "code",
   "execution_count": 30,
   "metadata": {},
   "outputs": [
    {
     "name": "stdout",
     "output_type": "stream",
     "text": [
      "{\"error\":{\"message\":\"Unsupported post request. Object with ID '110185892096367' does not exist, cannot be loaded due to missing permissions, or does not support this operation. Please read the Graph API documentation at https:\\/\\/developers.facebook.com\\/docs\\/graph-api\",\"type\":\"GraphMethodException\",\"code\":100,\"error_subcode\":33,\"fbtrace_id\":\"ApiOw6NLpB_ZtMD6LsRZOR2\"}}\n"
     ]
    }
   ],
   "source": [
    "payload = {'messaging_product': 'whatsapp'}\n",
    "files=[\n",
    "  ('file',('Sample.jpg',open('/Users/Agustin/Sample.jpg','rb'),'image/jpeg'))\n",
    "]\n",
    "headers = {}\n",
    "\n",
    "response = requests.request(\"POST\", url, headers=headers, data=payload, files=files)\n",
    "\n",
    "print(response.text)\n"
   ]
  },
  {
   "cell_type": "code",
   "execution_count": 32,
   "metadata": {},
   "outputs": [
    {
     "name": "stdout",
     "output_type": "stream",
     "text": [
      "{\"error\":{\"message\":\"Unsupported post request. Object with ID '110185892096367' does not exist, cannot be loaded due to missing permissions, or does not support this operation. Please read the Graph API documentation at https:\\/\\/developers.facebook.com\\/docs\\/graph-api\",\"type\":\"GraphMethodException\",\"code\":100,\"error_subcode\":33,\"fbtrace_id\":\"ApiOw6NLpB_ZtMD6LsRZOR2\"}}\n"
     ]
    }
   ],
   "source": [
    "print(response.text)\n",
    "\n",
    "{\"error\":{\"message\":\"Unsupported post request. Object with ID '110185892096367' does not exist, cannot be loaded due to missing permissions, or does not support this operation. Please read the Graph API documentation at https:\\/\\/developers.facebook.com\\/docs\\/graph-api\",\"type\":\"GraphMethodException\",\"code\":100,\"error_subcode\":33,\"fbtrace_id\":\"ApiOw6NLpB_ZtMD6LsRZOR2\"}}"
   ]
  },
  {
   "attachments": {},
   "cell_type": "markdown",
   "metadata": {},
   "source": [
    "# 6) Enviar texto e imagen"
   ]
  },
  {
   "cell_type": "code",
   "execution_count": 17,
   "metadata": {},
   "outputs": [
    {
     "name": "stdout",
     "output_type": "stream",
     "text": [
      "{\"messaging_product\":\"whatsapp\",\"contacts\":[{\"input\":\"543516109966\",\"wa_id\":\"5493516109966\"}],\"messages\":[{\"id\":\"wamid.HBgNNTQ5MzUxNjEwOTk2NhUCABEYEkZCMUM1RkM4Q0Q0M0QyM0FBMgA=\"}]}\n"
     ]
    }
   ],
   "source": [
    "numero = '543516109966'\n",
    "link_imagen = \"http://www.choppcassaro.com.ar/assets/images/logo-195x189.png\"\n",
    "\n",
    "payload = json.dumps({\n",
    "  \"messaging_product\": \"whatsapp\",\n",
    "  \"recipient_type\": \"individual\",\n",
    "  \"to\": numero,\n",
    "  \"type\": \"image\",\n",
    "  \"image\": {\n",
    "    \"link\": link_imagen\n",
    "  }\n",
    "})\n",
    "\n",
    "response = requests.request(\"POST\", url, headers=headers, data=payload)\n",
    "\n",
    "print(response.text)\n"
   ]
  },
  {
   "attachments": {},
   "cell_type": "markdown",
   "metadata": {},
   "source": [
    "# 7) Enviar audios"
   ]
  },
  {
   "attachments": {},
   "cell_type": "markdown",
   "metadata": {},
   "source": []
  },
  {
   "attachments": {},
   "cell_type": "markdown",
   "metadata": {},
   "source": [
    "# 8) Enviar Videos .mp4"
   ]
  },
  {
   "attachments": {},
   "cell_type": "markdown",
   "metadata": {},
   "source": []
  }
 ],
 "metadata": {
  "kernelspec": {
   "display_name": "venv",
   "language": "python",
   "name": "python3"
  },
  "language_info": {
   "codemirror_mode": {
    "name": "ipython",
    "version": 3
   },
   "file_extension": ".py",
   "mimetype": "text/x-python",
   "name": "python",
   "nbconvert_exporter": "python",
   "pygments_lexer": "ipython3",
   "version": "3.8.8"
  },
  "orig_nbformat": 4,
  "vscode": {
   "interpreter": {
    "hash": "0bc58eeea55c79e44ea254f44b938f559f7d4401fa4491c254cbf96be8bbb13e"
   }
  }
 },
 "nbformat": 4,
 "nbformat_minor": 2
}
